{
  "nbformat": 4,
  "nbformat_minor": 0,
  "metadata": {
    "colab": {
      "provenance": [],
      "include_colab_link": true
    },
    "kernelspec": {
      "name": "python3",
      "display_name": "Python 3"
    },
    "language_info": {
      "name": "python"
    }
  },
  "cells": [
    {
      "cell_type": "markdown",
      "metadata": {
        "id": "view-in-github",
        "colab_type": "text"
      },
      "source": [
        "<a href=\"https://colab.research.google.com/github/Praveen-Kumar-404/DS-1-Test/blob/main/session_2_task.ipynb\" target=\"_parent\"><img src=\"https://colab.research.google.com/assets/colab-badge.svg\" alt=\"Open In Colab\"/></a>"
      ]
    },
    {
      "cell_type": "markdown",
      "source": [
        "### `Problem 1`: Write a program that will give you in hand monthly salary after deduction on CTC - HRA(10%), DA(5%), PF(3%) and taxes deduction as below:\n",
        "\n",
        "> Salary(Lakhs) : Tax(%)\n",
        "\n",
        "*   Below 5 : 0%\n",
        "*   5-10 : 10%\n",
        "*   10-20 : 20%\n",
        "*   aboove 20 : 30%"
      ],
      "metadata": {
        "id": "w6RlOAXV2PWh"
      }
    },
    {
      "cell_type": "code",
      "source": [
        "ctc = float(input(\"Enter your annual CTC (in Lakhs): \"))\n",
        "\n",
        "ctc_in_rupees = ctc * 100000\n",
        "\n",
        "fixed_deduction = 0.18 * ctc_in_rupees\n",
        "after_fixed_deduction = ctc_in_rupees - fixed_deduction\n",
        "\n",
        "if ctc < 5:\n",
        "    tax_rate = 0\n",
        "elif ctc <= 10:\n",
        "    tax_rate = 0.10\n",
        "elif ctc <= 20:\n",
        "    tax_rate = 0.20\n",
        "else:\n",
        "    tax_rate = 0.30\n",
        "\n",
        "tax_amount = tax_rate * after_fixed_deduction\n",
        "\n",
        "in_hand_annual = after_fixed_deduction - tax_amount\n",
        "\n",
        "in_hand_monthly = in_hand_annual / 12\n",
        "\n",
        "print(\"Your monthly in-hand salary is: ₹\", round(in_hand_monthly, 2))"
      ],
      "metadata": {
        "id": "7tMHvKYO2etI"
      },
      "execution_count": null,
      "outputs": []
    },
    {
      "cell_type": "markdown",
      "source": [
        "### `Problem 2`: Write a program that take a user input of three angles and will find out whether it can form a triangle or not."
      ],
      "metadata": {
        "id": "tYzCGqwl2hfN"
      }
    },
    {
      "cell_type": "code",
      "source": [
        "\n",
        "angle1 = float(input(\"Enter first angle: \"))\n",
        "angle2 = float(input(\"Enter second angle: \"))\n",
        "angle3 = float(input(\"Enter third angle: \"))\n",
        "\n",
        "if angle1 > 0 and angle2 > 0 and angle3 > 0:\n",
        "    if angle1 + angle2 + angle3 == 180:\n",
        "        print(\"The angles can form a triangle.\")\n",
        "    else:\n",
        "        print(\"The angles cannot form a triangle.\")\n",
        "else:\n",
        "    print(\"Angles must be greater than 0.\")"
      ],
      "metadata": {
        "id": "FYEqln-I2kxV"
      },
      "execution_count": null,
      "outputs": []
    },
    {
      "cell_type": "markdown",
      "source": [
        "### `Problem 3`: Write a program that will take user input of cost price and selling price and determines whether its a loss or a profit."
      ],
      "metadata": {
        "id": "5vEpPh8C2pE4"
      }
    },
    {
      "cell_type": "code",
      "source": [
        "cp = float(input(\"Enter Cost Price: \"))\n",
        "sp = float(input(\"Enter Selling Price: \"))\n",
        "\n",
        "if sp > cp:\n",
        "    profit = sp - cp\n",
        "    print(\"You made a Profit of ₹\", round(profit, 2))\n",
        "elif cp > sp:\n",
        "    loss = cp - sp\n",
        "    print(\"You incurred a Loss of ₹\", round(loss, 2))\n",
        "else:\n",
        "    print(\"No Profit No Loss.\")"
      ],
      "metadata": {
        "id": "jDwBXlkO2sfl"
      },
      "execution_count": null,
      "outputs": []
    },
    {
      "cell_type": "markdown",
      "source": [
        "### `Problem 4`: Write a menu-driven program -\n",
        "1. cm to ft\n",
        "2. km to miles\n",
        "3. USD to INR\n",
        "4. exit"
      ],
      "metadata": {
        "id": "J_FG_cJW2ugT"
      }
    },
    {
      "cell_type": "code",
      "source": [
        "def cm_to_ft(cm):\n",
        "    return cm / 30.48\n",
        "\n",
        "def km_to_miles(km):\n",
        "    return km * 0.621371\n",
        "\n",
        "def usd_to_inr(usd):\n",
        "    return usd * 83.0  # Update the exchange rate as needed\n",
        "\n",
        "while True:\n",
        "    print(\"\\n--- Conversion Menu ---\")\n",
        "    print(\"1. Centimeters to Feet\")\n",
        "    print(\"2. Kilometers to Miles\")\n",
        "    print(\"3. USD to INR\")\n",
        "    print(\"4. Exit\")\n",
        "\n",
        "    choice = input(\"Enter your choice (1-4): \")\n",
        "\n",
        "    if choice == '1':\n",
        "        cm = float(input(\"Enter value in centimeters: \"))\n",
        "        result = cm_to_ft(cm)\n",
        "        print(\"{} cm = {:.2f} ft\".format(cm, result))\n",
        "\n",
        "    elif choice == '2':\n",
        "        km = float(input(\"Enter value in kilometers: \"))\n",
        "        result = km_to_miles(km)\n",
        "        print(\"{} km = {:.2f} miles\".format(km, result))\n",
        "\n",
        "    elif choice == '3':\n",
        "        usd = float(input(\"Enter amount in USD: \"))\n",
        "        result = usd_to_inr(usd)\n",
        "        print(\"${} = ₹{:.2f}\".format(usd, result))\n",
        "\n",
        "    elif choice == '4':\n",
        "        print(\"Exiting program. Goodbye!\")\n",
        "        break\n",
        "\n",
        "    else:\n",
        "        print(\"Invalid choice. Please enter 1 to 4.\")"
      ],
      "metadata": {
        "id": "yBHhaCGQ2zpD"
      },
      "execution_count": null,
      "outputs": []
    },
    {
      "cell_type": "markdown",
      "source": [
        "### `Problem 5` - Exercise 12: Display Fibonacci series up to 10 terms.\n",
        "\n",
        "*Note: The Fibonacci Sequence is a series of numbers. The next number is found by adding up the two numbers before it. The first two numbers are 0 and 1. For example, 0, 1, 1, 2, 3, 5, 8, 13, 21. The next number in this series above is 13+21 = 34*"
      ],
      "metadata": {
        "id": "LJJ30_Yw27ZU"
      }
    },
    {
      "cell_type": "code",
      "source": [
        "n_terms = 10\n",
        "a = 0\n",
        "b = 1\n",
        "count = 0\n",
        "\n",
        "print(\"Fibonacci Series up to 10 terms:\")\n",
        "\n",
        "while count < n_terms:\n",
        "    print(a, end=' ')\n",
        "    next_term = a + b\n",
        "    a = b\n",
        "    b = next_term\n",
        "    count += 1"
      ],
      "metadata": {
        "id": "Jo8Clol4gBU0"
      },
      "execution_count": null,
      "outputs": []
    },
    {
      "cell_type": "markdown",
      "source": [
        "### `Problem 6` - Find the factorial of a given number.\n",
        "\n",
        "Write a program to use the loop to find the factorial of a given number.\n",
        "\n",
        "The factorial (symbol: `!`) means to multiply all whole numbers from the chosen number down to 1.\n",
        "\n",
        "For example: calculate the factorial of 5\n",
        "\n",
        "```bash\n",
        "5! = 5 × 4 × 3 × 2 × 1 = 120\n",
        "```\n",
        "\n",
        "Output:\n",
        "\n",
        "```bash\n",
        "120\n",
        "```"
      ],
      "metadata": {
        "id": "pk_I_S4m3PT5"
      }
    },
    {
      "cell_type": "code",
      "source": [
        "num = int(input(\"Enter a number: \"))\n",
        "factorial = 1\n",
        "\n",
        "if num < 0:\n",
        "    print(\"Factorial does not exist for negative numbers.\")\n",
        "elif num == 0:\n",
        "    print(\"Factorial of 0 is 1.\")\n",
        "else:\n",
        "    for i in range(1, num + 1):\n",
        "        factorial *= i\n",
        "    print(\"Factorial of\", num, \"is\", factorial)"
      ],
      "metadata": {
        "id": "lzXxHegx3Rkc"
      },
      "execution_count": null,
      "outputs": []
    },
    {
      "cell_type": "markdown",
      "source": [
        "### `Problem 7` - Reverse a given integer number.\n",
        "\n",
        "Example:\n",
        "\n",
        "`Input:`\n",
        "\n",
        "```bash\n",
        "76542\n",
        "```\n",
        "\n",
        "`Output:`\n",
        "\n",
        "```bash\n",
        "24567\n",
        "```"
      ],
      "metadata": {
        "id": "-17IOi-g3UpU"
      }
    },
    {
      "cell_type": "code",
      "source": [
        "num = int(input(\"Enter an integer number: \"))\n",
        "reverse = 0\n",
        "original = num\n",
        "\n",
        "while num != 0:\n",
        "    digit = num % 10\n",
        "    reverse = reverse * 10 + digit\n",
        "    num = num // 10\n",
        "\n",
        "print(\"Reversed number of\", original, \"is\", reverse)"
      ],
      "metadata": {
        "id": "wJwLpKCr3aVA"
      },
      "execution_count": null,
      "outputs": []
    },
    {
      "cell_type": "markdown",
      "source": [
        "### `Problem 8`: Take a user input as integer N. Find out the sum from 1 to N. If any number if divisible by 5, then skip that number. And if the sum is greater than 300, don't need to calculate the sum further more. Print the final result. And don't use for loop to solve this problem.\n",
        "\n",
        "**Example 1:**\n",
        "\n",
        "`Input:`\n",
        "\n",
        "```bash\n",
        "30\n",
        "```\n",
        "\n",
        "`Output:`\n",
        "\n",
        "```bash\n",
        "276\n",
        "```"
      ],
      "metadata": {
        "id": "-t8PJQaY3sHf"
      }
    },
    {
      "cell_type": "code",
      "source": [
        "n = int(input(\"Enter a number: \"))\n",
        "i = 1\n",
        "total = 0\n",
        "\n",
        "while i <= n:\n",
        "    if i % 5 == 0:\n",
        "        i += 1\n",
        "        continue\n",
        "    total += i\n",
        "    if total > 300:\n",
        "        break\n",
        "    i += 1\n",
        "\n",
        "print(\"Final result:\", total)"
      ],
      "metadata": {
        "id": "GZB6mGMP3ujT",
        "colab": {
          "base_uri": "https://localhost:8080/"
        },
        "outputId": "9ba1ec15-a9eb-425e-d3f6-92bb74b82343"
      },
      "execution_count": null,
      "outputs": [
        {
          "output_type": "stream",
          "name": "stdout",
          "text": [
            "Enter a number: 56\n",
            "Final result: 303\n"
          ]
        }
      ]
    },
    {
      "cell_type": "markdown",
      "source": [
        "### `Problem 9`: Write a program that keeps on accepting a number from the user until the user enters Zero. Display the sum and average of all the numbers."
      ],
      "metadata": {
        "id": "Q7ggImeA3xm4"
      }
    },
    {
      "cell_type": "code",
      "source": [
        "total = 0\n",
        "count = 0\n",
        "\n",
        "while True:\n",
        "    num = int(input(\"Enter a number (0 to stop): \"))\n",
        "    if num == 0:\n",
        "        break\n",
        "    total += num\n",
        "    count += 1\n",
        "\n",
        "if count == 0:\n",
        "    print(\"No numbers were entered.\")\n",
        "else:\n",
        "    average = total / count\n",
        "    print(\"Sum =\", total)\n",
        "    print(\"Average =\", average)"
      ],
      "metadata": {
        "id": "t_YDSZDe4Kdo"
      },
      "execution_count": null,
      "outputs": []
    },
    {
      "cell_type": "markdown",
      "source": [
        "###`Problem 9`: Write a program which will find all such numbers which are divisible by 7 but are not a multiple of 5, between 2000 and 3200 (both included). The numbers obtained should be printed in a comma-separated sequence on a single line."
      ],
      "metadata": {
        "id": "6EhvEMvm4R7s"
      }
    },
    {
      "cell_type": "code",
      "source": [
        "result = []\n",
        "num = 2000\n",
        "\n",
        "while num <= 3200:\n",
        "    if num % 7 == 0 and num % 5 != 0:\n",
        "        result.append(str(num))\n",
        "    num += 1\n",
        "\n",
        "print(\",\".join(result))"
      ],
      "metadata": {
        "id": "d6RgP1B34T6c"
      },
      "execution_count": null,
      "outputs": []
    },
    {
      "cell_type": "markdown",
      "source": [
        "###`Problem 10`: Write a program, which will find all such numbers between 1000 and 3000 (both included) such that each digit of the number is an even number. The numbers obtained should be printed in a space-separated sequence on a single line.\n",
        "\n"
      ],
      "metadata": {
        "id": "tYvmRR-G4Vp4"
      }
    },
    {
      "cell_type": "code",
      "source": [
        "\n",
        "result = []\n",
        "\n",
        "num = 1000\n",
        "while num <= 3000:\n",
        "    digits = str(num)\n",
        "    if all(int(d) % 2 == 0 for d in digits):\n",
        "        result.append(str(num))\n",
        "    num += 1\n",
        "\n",
        "print(\" \".join(result))"
      ],
      "metadata": {
        "id": "k6Gs1kIf4k19"
      },
      "execution_count": null,
      "outputs": []
    },
    {
      "cell_type": "markdown",
      "source": [
        "###`Problem 11`: A robot moves in a plane starting from the original point (0,0). The robot can move toward UP, DOWN, LEFT and RIGHT with a given steps.\n",
        "The trace of robot movement is shown as the following:\n",
        "```\n",
        "UP 5\n",
        "DOWN 3\n",
        "LEFT 3\n",
        "RIGHT 2\n",
        "!\n",
        "```\n",
        "> The numbers after the direction are steps.\n",
        "\n",
        "> `!` means robot stop there.\n",
        "\n",
        "**Please write a program to compute the distance from current position after a sequence of movement and original point.**\n",
        "\n",
        "*If the distance is a float, then just print the nearest integer.*\n",
        "\n",
        "Example:\n",
        "\n",
        "`Input`:\n",
        "```\n",
        "UP 5\n",
        "DOWN 3\n",
        "LEFT 3\n",
        "RIGHT 2\n",
        "!\n",
        "```\n",
        "`Output`:\n",
        "```\n",
        "2\n",
        "```"
      ],
      "metadata": {
        "id": "GV18IINT4mf5"
      }
    },
    {
      "cell_type": "code",
      "source": [
        "import math\n",
        "\n",
        "x, y = 0, 0\n",
        "\n",
        "while True:\n",
        "    move = input()\n",
        "    if move == '!':\n",
        "        break\n",
        "    direction, steps = move.split()\n",
        "    steps = int(steps)\n",
        "\n",
        "    if direction == 'UP':\n",
        "        y += steps\n",
        "    elif direction == 'DOWN':\n",
        "        y -= steps\n",
        "    elif direction == 'LEFT':\n",
        "        x -= steps\n",
        "    elif direction == 'RIGHT':\n",
        "        x += steps\n",
        "\n",
        "distance = math.sqrt(x**2 + y**2)\n",
        "\n",
        "print(round(distance))"
      ],
      "metadata": {
        "id": "6UNMC2aR4w5x"
      },
      "execution_count": null,
      "outputs": []
    },
    {
      "cell_type": "markdown",
      "source": [
        "###`Problem 12`:Write a program to print whether a given number is a prime number or not"
      ],
      "metadata": {
        "id": "3fsAIAhK5GYY"
      }
    },
    {
      "cell_type": "code",
      "source": [
        "\n",
        "num = int(input(\"Enter a number: \"))\n",
        "\n",
        "if num <= 1:\n",
        "    print(num, \"is not a prime number\")\n",
        "else:\n",
        "    is_prime = True\n",
        "    for i in range(2, int(num ** 0.5) + 1):  # Check divisibility from 2 to sqrt(num)\n",
        "        if num % i == 0:\n",
        "            is_prime = False\n",
        "            break\n",
        "\n",
        "    if is_prime:\n",
        "        print(num, \"is a prime number\")\n",
        "    else:\n",
        "        print(num, \"is not a prime number\")"
      ],
      "metadata": {
        "id": "j6y91lxy5LZs"
      },
      "execution_count": null,
      "outputs": []
    },
    {
      "cell_type": "markdown",
      "source": [
        "###`Problem 13`:Print all the Armstrong numbers in a given range.\n",
        "Range will be provided by the user<br>\n",
        "Armstrong number is a number that is equal to the sum of cubes of its digits. For example 0, 1, 153, 370, 371 and 407 are the Armstrong numbers."
      ],
      "metadata": {
        "id": "asAbmbK-5NHv"
      }
    },
    {
      "cell_type": "code",
      "source": [
        "def is_armstrong(num):\n",
        "    digits = str(num)\n",
        "    sum_of_cubes = sum(int(digit) ** 3 for digit in digits)  # Sum of cubes of digits\n",
        "    return sum_of_cubes == num\n",
        "\n",
        "start = int(input(\"Enter the start of the range: \"))\n",
        "end = int(input(\"Enter the end of the range: \"))\n",
        "\n",
        "print(f\"Armstrong numbers between {start} and {end} are:\")\n",
        "for num in range(start, end + 1):\n",
        "    if is_armstrong(num):\n",
        "        print(num, end=\" \")"
      ],
      "metadata": {
        "id": "PZuI67pm5jCT"
      },
      "execution_count": null,
      "outputs": []
    },
    {
      "cell_type": "markdown",
      "source": [
        "###`Problem 14`:Calculate the angle between the hour hand and minute hand.\n",
        "\n",
        "Note: There can be two angles between hands; we need to print a minimum of two. Also, we need to print the floor of the final result angle. For example, if the final angle is 10.61, we need to print 10.\n",
        "\n",
        "Input:<br>\n",
        "H = 9 , M = 0<br>\n",
        "Output:<br>\n",
        "90<br>\n",
        "Explanation:<br>\n",
        "The minimum angle between hour and minute\n",
        "hand when the time is 9 is 90 degress."
      ],
      "metadata": {
        "id": "ClCQZMqT7gK0"
      }
    },
    {
      "cell_type": "code",
      "source": [
        "import math\n",
        "\n",
        "def calculate_angle(hour, minute):\n",
        "\n",
        "    hour = hour % 12\n",
        "\n",
        "    minute_angle = 6 * minute\n",
        "\n",
        "    hour_angle = 30 * hour + 0.5 * minute\n",
        "\n",
        "    angle = abs(hour_angle - minute_angle)\n",
        "\n",
        "    if angle > 180:\n",
        "        angle = 360 - angle\n",
        "\n",
        "    return math.floor(angle)\n",
        "\n",
        "hour = int(input(\"Enter the hour (H): \"))\n",
        "minute = int(input(\"Enter the minute (M): \"))\n",
        "\n",
        "angle = calculate_angle(hour, minute)\n",
        "\n",
        "print(angle)"
      ],
      "metadata": {
        "id": "tNBTCZML7jy_",
        "colab": {
          "base_uri": "https://localhost:8080/"
        },
        "outputId": "1d54613f-2699-43d4-f84c-d5601a16f1ba"
      },
      "execution_count": null,
      "outputs": [
        {
          "output_type": "stream",
          "name": "stdout",
          "text": [
            "Enter the hour (H): 5\n",
            "Enter the minute (M): 43\n",
            "86\n"
          ]
        }
      ]
    },
    {
      "cell_type": "markdown",
      "source": [
        "###`Problem 15`:Given two rectangles, find if the given two rectangles overlap or not. A rectangle is denoted by providing the x and y coordinates of two points: the left top corner and the right bottom corner of the rectangle. Two rectangles sharing a side are considered overlapping. (L1 and R1 are the extreme points of the first rectangle and L2 and R2 are the extreme points of the second rectangle).\n",
        "\n",
        "Note: It may be assumed that the rectangles are parallel to the coordinate axis.\n",
        "\n",
        "<img src='https://www.geeksforgeeks.org/wp-content/uploads/rectanglesOverlap.png' width='300' height='200'>"
      ],
      "metadata": {
        "id": "GwacF9Co72Qc"
      }
    },
    {
      "cell_type": "code",
      "source": [
        "\n",
        "def is_overlap(L1, R1, L2, R2):\n",
        "    if L1[0] > R2[0] or L2[0] > R1[0]:\n",
        "        return False\n",
        "    if R1[1] > L2[1] or R2[1] > L1[1]:\n",
        "        return False\n",
        "    return True\n",
        "\n",
        "L1 = tuple(map(int, input().split()))\n",
        "R1 = tuple(map(int, input().split()))\n",
        "L2 = tuple(map(int, input().split()))\n",
        "R2 = tuple(map(int, input().split()))\n",
        "\n",
        "if is_overlap(L1, R1, L2, R2):\n",
        "    print(\"The rectangles overlap.\")\n",
        "else:\n",
        "    print(\"The rectangles do not overlap.\")"
      ],
      "metadata": {
        "id": "6rrw_lpH78Rs"
      },
      "execution_count": null,
      "outputs": []
    }
  ]
}