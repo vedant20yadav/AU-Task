{
  "nbformat": 4,
  "nbformat_minor": 0,
  "metadata": {
    "colab": {
      "provenance": []
    },
    "kernelspec": {
      "name": "python3",
      "display_name": "Python 3"
    },
    "language_info": {
      "name": "python"
    }
  },
  "cells": [
    {
      "cell_type": "markdown",
      "source": [
        "##`Q-1:` Rectangle Class\n",
        "1. Write a Rectangle class in Python language, allowing you to build a rectangle with length and width attributes.\n",
        "\n",
        "2. Create a Perimeter() method to calculate the perimeter of the rectangle and a Area() method to calculate the area of ​​the rectangle.\n",
        "\n",
        "3. Create a method display() that display the length, width, perimeter and area of an object created using an instantiation on rectangle class."
      ],
      "metadata": {
        "id": "FyUJ3PRAsPr4"
      }
    },
    {
      "cell_type": "markdown",
      "source": [
        "Eg.\n",
        "After making above classes and methods, on executing below code:-\n",
        "```\n",
        "my_rectangle = Rectangle(3 , 4)\n",
        "my_rectangle.display()\n",
        "```\n",
        "\n",
        "`Output:`\n",
        "```\n",
        "The length of rectangle is:  3\n",
        "The width of rectangle is:  4\n",
        "The perimeter of rectangle is:  14\n",
        "The area of rectangle is:  12\n",
        "```\n"
      ],
      "metadata": {
        "id": "GxUtOqJfssFK"
      }
    },
    {
      "cell_type": "code",
      "source": [
        "class Rectangle:\n",
        "  def __init__(self,length,width):\n",
        "    self.length= length\n",
        "    self.width= width\n",
        "\n",
        "  def Perimeter(self):\n",
        "    self.Perimeter= 2 * (self.length + self.width)\n",
        "    return self.Perimeter\n",
        "\n",
        "  def Area(self):\n",
        "    self.Area= (self.length * self.width)\n",
        "    return self.Area\n",
        "\n",
        "  def display(self):\n",
        "    print(\"The Length of Rectangle :\",self.length)\n",
        "    print(\"The Width of Rectangle :\",self.width)\n",
        "    print(\"The Perimeter of rectangle is :\",self.Perimeter())\n",
        "    print(\"The Area of rectangle is :\",self.Area())\n",
        "\n",
        "R1=Rectangle(3,4)\n",
        "R1.display()\n"
      ],
      "metadata": {
        "id": "92_QT-Uj6NBg",
        "colab": {
          "base_uri": "https://localhost:8080/"
        },
        "outputId": "e02d2e0d-cd4a-484f-a2f0-a494ad22d776"
      },
      "execution_count": null,
      "outputs": [
        {
          "output_type": "stream",
          "name": "stdout",
          "text": [
            "The Length of Rectangle : 3\n",
            "The Width of Rectangle : 4\n",
            "The Perimeter of rectangle is : 14\n",
            "The Area of rectangle is : 12\n"
          ]
        }
      ]
    },
    {
      "cell_type": "markdown",
      "source": [
        "##`Q-2: Bank Class`\n",
        "\n",
        "1. Create a Python class called `BankAccount` which represents a bank account, having as attributes: `accountNumber` (numeric type), `name` (name of the account owner as string type), `balance`.\n",
        "2. Create a constructor with parameters: `accountNumber, name, balance`.\n",
        "3. Create a `Deposit()` method which manages the deposit actions.\n",
        "4. Create a `Withdrawal()` method  which manages withdrawals actions.\n",
        "5. Create an `bankFees()` method to apply the bank fees with a percentage of 5% of the balance account.\n",
        "6. Create a `display()` method to display account details.\n",
        "Give the complete code for the  BankAccount class."
      ],
      "metadata": {
        "id": "r_GxrS0Vrdom"
      }
    },
    {
      "cell_type": "markdown",
      "source": [
        "Eg.\n",
        "After making above classes and methods, on executing below code:-\n",
        "```\n",
        "newAccount = BankAccount(2178514584, \"Mandy\" , 2800)\n",
        "\n",
        "newAccount.Withdrawal(700)\n",
        "\n",
        "newAccount.Deposit(1000)\n",
        "\n",
        "newAccount.display()\n",
        "```\n",
        "\n",
        "`Output:`\n",
        "```\n",
        "Account Number :  2178514584\n",
        "Account Name :  Mandy\n",
        "Account Balance :  3100 ₹\n",
        "```"
      ],
      "metadata": {
        "id": "qvVkOUJgvTV_"
      }
    },
    {
      "cell_type": "code",
      "source": [
        "class BankAccount:\n",
        "    def __init__(self, accountNumber, name, balance):\n",
        "        self.accountNumber = accountNumber\n",
        "        self.name = name\n",
        "        self.balance = balance\n",
        "\n",
        "    def Deposit(self, amount):\n",
        "        if amount > 0:\n",
        "            self.balance += amount\n",
        "        else:\n",
        "            print(\"Deposit amount must be positive.\")\n",
        "\n",
        "    def Withdrawal(self, amount):\n",
        "        if 0 < amount <= self.balance:\n",
        "            self.balance -= amount\n",
        "        else:\n",
        "            print(\"Invalid withdrawal amount or insufficient balance.\")\n",
        "\n",
        "    def bankFees(self):\n",
        "        fees = self.balance * 0.05\n",
        "        self.balance -= fees\n",
        "\n",
        "    def display(self):\n",
        "        print(\"Account Number : \", self.accountNumber)\n",
        "        print(\"Account Name : \", self.name)\n",
        "        print(\"Account Balance : \", self.balance, \"₹\")\n",
        "\n",
        "    newAccount = BankAccount(2178514584, \"Mandy\", 2800)\n",
        "    newAccount.Withdrawal(700)\n",
        "    newAccount.Deposit(1000)\n",
        "    newAccount.display()\n"
      ],
      "metadata": {
        "id": "fUQOmQyA6YDR",
        "colab": {
          "base_uri": "https://localhost:8080/"
        },
        "outputId": "9e3d6ac9-51f8-4601-d202-6b97535cf86a"
      },
      "execution_count": null,
      "outputs": [
        {
          "output_type": "stream",
          "name": "stdout",
          "text": [
            "Account Number :  2178514584\n",
            "Account Name :  Mandy\n",
            "Account Balance :  3100 ₹\n"
          ]
        }
      ]
    },
    {
      "cell_type": "markdown",
      "source": [
        "##`Q-3:Computation class`\n",
        "\n",
        "1. Create a `Computation` class with a default constructor (without parameters) allowing to perform various calculations on integers numbers.\n",
        "2. Create a method called `Factorial()` which allows to calculate the factorial of an integer n. Integer n as parameter for this method\n",
        "\n",
        "3. Create a method called `naturalSum()` allowing to calculate the sum of the first n integers 1 + 2 + 3 + .. + n. Integer n as parameter for this method.\n",
        "\n",
        "4. Create a method called `testPrime()` in  the Calculation class to test the primality of a given integer n, n is Prime or Not? Integer n as parameter for this method.\n",
        "\n",
        "5. Create  a method called `testPrims()` allowing to test if two numbers are prime between them. Two integers are prime to one another if they have only `1` as their common divisor. Eg. 4 and 9 are prime to each other.\n",
        "\n",
        "5. Create a `tableMult()` method which creates and displays the multiplication table of a given integer. Then create an `allTablesMult()` method to display all the integer multiplication tables 1, 2, 3, ..., 9.\n",
        "\n",
        "6. Create a static `listDiv()` method that gets all the divisors of a given integer on new list called  Ldiv. Create another `listDivPrim()` method that gets all the prime divisors of a given integer."
      ],
      "metadata": {
        "id": "QovcQAZTrgGU"
      }
    },
    {
      "cell_type": "code",
      "source": [
        "class Computation:\n",
        "    def __init__(self):\n",
        "        pass\n",
        "\n",
        "    def Factorial(self, n):\n",
        "        if n < 0:\n",
        "            return \"Factorial is not defined for negative numbers\"\n",
        "        result = 1\n",
        "        for i in range(2, n + 1):\n",
        "            result *= i\n",
        "        return result\n",
        "\n",
        "    def naturalSum(self, n):\n",
        "        if n < 1:\n",
        "            return 0\n",
        "        return n * (n + 1) // 2\n",
        "\n",
        "    def testPrims(self, a, b):\n",
        "        from math import gcd\n",
        "        return gcd(a, b) == 1\n",
        "\n",
        "    def tableMult(self, n):\n",
        "        print(f\"Multiplication Table of {n}:\")\n",
        "        for i in range(1, 11):\n",
        "            print(f\"{n} x {i} = {n * i}\")\n",
        "\n",
        "    def allTablesMult(self):\n",
        "        for i in range(1, 10):\n",
        "            print(f\"\\n--- Table of {i} ---\")\n",
        "            self.tableMult(i)\n",
        "\n",
        "    calc = Computation()\n",
        "\n",
        "    print(\"Factorial of 5:\", calc.Factorial(5))\n",
        "\n",
        "\n"
      ],
      "metadata": {
        "id": "YEkPH70l6Z-o",
        "colab": {
          "base_uri": "https://localhost:8080/"
        },
        "outputId": "e86d8c96-6ab5-4141-9119-938a590f6e5a"
      },
      "execution_count": null,
      "outputs": [
        {
          "output_type": "stream",
          "name": "stdout",
          "text": [
            "Factorial of 5: 120\n"
          ]
        }
      ]
    },
    {
      "cell_type": "markdown",
      "source": [
        "##`Q-4`: Build flashcard using class in Python.\n",
        "\n",
        "Build a flashcard using class in python. A flashcard is a card having information on both sides, which can be used as an aid in memoization. Flashcards usually have a question on one side and an answer on the other.\n",
        "\n",
        "**Example 1:**\n",
        "\n",
        "Approach:\n",
        "\n",
        "- Create a class named FlashCard.\n",
        "- Initialize dictionary fruits using __init__() method. Here you have to define fruit name as key and it's color as value. E.g., {\"Banana\": \"yellow\", \"Strawberries\": \"pink\"}\n",
        "- Now randomly choose a pair from fruits by using _random_ module and store the key in variable _fruit_ and _value_ in variable color.\n",
        "- Now prompt the user to answer the color of the randomly chosen fruit.\n",
        "- If correct print correct else print wrong.\n",
        "\n",
        "Output:\n",
        "```bash\n",
        "welcome to fruit quiz\n",
        "What is the color of Strawberries\n",
        "pink\n",
        "Correct answer\n",
        "Enter 0, if you want to play again: 0\n",
        "What is the color of watermelon\n",
        "green\n",
        "Correct answer\n",
        "Enter 0, if you want to play again: 1\n",
        "```"
      ],
      "metadata": {
        "id": "0yn23_oEriXa"
      }
    },
    {
      "cell_type": "code",
      "source": [
        "import random\n",
        "\n",
        "class FlashCard:\n",
        "    def __init__(self):\n",
        "        self.fruits = {\n",
        "            \"Banana\": \"yellow\",\n",
        "            \"Strawberries\": \"pink\",\n",
        "            \"Apple\": \"red\",\n",
        "            \"Blueberries\": \"blue\",\n",
        "            \"Orange\": \"orange\",\n",
        "            \"Grapes\": \"purple\",\n",
        "            \"Kiwi\": \"green\",\n",
        "            \"Lemon\": \"yellow\"\n",
        "        }\n",
        "\n",
        "    def quiz(self):\n",
        "        fruit, color = random.choice(list(self.fruits.items()))\n",
        "        print(f\"What is the color of {fruit}?\")\n",
        "        user_answer = input(\"Your answer: \").strip().lower()\n",
        "        if user_answer == color.lower():\n",
        "            print(\"Correct!\")\n",
        "        else:\n",
        "            print(\"Wrong! The correct color is \",color)\n",
        "flashcard = FlashCard()\n",
        "flashcard.quiz()\n"
      ],
      "metadata": {
        "id": "vCrUF6VU6l6w",
        "colab": {
          "base_uri": "https://localhost:8080/"
        },
        "outputId": "a3125123-d9be-449d-ecd4-22bc7fe99f5b"
      },
      "execution_count": null,
      "outputs": [
        {
          "output_type": "stream",
          "name": "stdout",
          "text": [
            "What is the color of Blueberries?\n",
            "Your answer: blue\n",
            "Correct!\n"
          ]
        }
      ]
    },
    {
      "cell_type": "markdown",
      "source": [
        "## `Q-5:` Problem 5 based on OOP Python.\n",
        "\n",
        "TechWorld, a technology training center, wants to allocate courses for instructors. An instructor is identified by name, technology skills, experience and average feedback. An instructor is allocated a course, if he/she satisfies the below two conditions:\n",
        "- eligibility criteria:\n",
        "    - if experience is more than 3 years, average feedback should be 4.5 or more\n",
        "    - if experience is 3 years or less, average feedback should be 4 or more\n",
        "- he/she should posses the technology skill for the course\n",
        "\n",
        "Identify the class name and attributes to represent instructors. Write a Python program to implement the class chosen with its attributes and methods.\n",
        "\n",
        "**Note:**\n",
        "- Consider all instance variables to be private and methods to be public.\n",
        "- An instructor may have multiple technology skills, so consider instance variable, technology_skill to be a list.\n",
        "- *check_eligibility()*: Return true if eligibility criteria is satisfied by the instructor. Else, return false\n",
        "- *allocate_course(technology)*: Return true if the course which requires the given technology can be allocated to the instructor. Else, return false.\n",
        "\n",
        "Represent a few objects of the class, initialize instance variables using setter methods, invoke\n",
        "appropriate methods and test your program."
      ],
      "metadata": {
        "id": "GN2r0jbRewYr"
      }
    },
    {
      "cell_type": "code",
      "source": [
        "class instructor:\n",
        "  def __init__(self,name,technology_skill,experience,average_feedback):\n",
        "    self.name=name\n",
        "    self.technology_skill=technology_skill\n",
        "    self.experience=experience\n",
        "    self.average_feedback=average_feedback\n",
        "\n",
        "    def check_eligibility(self):\n",
        "      if self.experience > 3 and self.average_feedback >= 4.5:\n",
        "        return True\n",
        "      elif self.experience <= 3 and self.average_feedback >=4:\n",
        "        return True\n",
        "      else:\n",
        "        return False\n",
        "\n",
        "    def allocate_course(self,technology):\n",
        "      if technology in self.technology_skill:\n",
        "        return True\n",
        "      else:\n",
        "        return False\n",
        "\n",
        "ins = instructor(\"Vedant\", \"Python\", 4, 4.5)\n",
        "\n",
        "\n",
        "print(ins.check_eligibility())\n",
        "\n",
        "\n",
        "print(ins.allocate_course(\"Python\"))"
      ],
      "metadata": {
        "id": "pdMFuVFnlvKL",
        "colab": {
          "base_uri": "https://localhost:8080/",
          "height": 211
        },
        "outputId": "6eb96e0a-47e0-4348-b5a3-6b7c1da77c2b"
      },
      "execution_count": null,
      "outputs": [
        {
          "output_type": "error",
          "ename": "AttributeError",
          "evalue": "'instructor' object has no attribute 'check_eligibility'",
          "traceback": [
            "\u001b[0;31m---------------------------------------------------------------------------\u001b[0m",
            "\u001b[0;31mAttributeError\u001b[0m                            Traceback (most recent call last)",
            "\u001b[0;32m<ipython-input-22-cd6053a0f023>\u001b[0m in \u001b[0;36m<cell line: 0>\u001b[0;34m()\u001b[0m\n\u001b[1;32m     23\u001b[0m \u001b[0;34m\u001b[0m\u001b[0m\n\u001b[1;32m     24\u001b[0m \u001b[0;34m\u001b[0m\u001b[0m\n\u001b[0;32m---> 25\u001b[0;31m \u001b[0mprint\u001b[0m\u001b[0;34m(\u001b[0m\u001b[0mins\u001b[0m\u001b[0;34m.\u001b[0m\u001b[0mcheck_eligibility\u001b[0m\u001b[0;34m(\u001b[0m\u001b[0;34m)\u001b[0m\u001b[0;34m)\u001b[0m\u001b[0;34m\u001b[0m\u001b[0;34m\u001b[0m\u001b[0m\n\u001b[0m\u001b[1;32m     26\u001b[0m \u001b[0;34m\u001b[0m\u001b[0m\n\u001b[1;32m     27\u001b[0m \u001b[0;34m\u001b[0m\u001b[0m\n",
            "\u001b[0;31mAttributeError\u001b[0m: 'instructor' object has no attribute 'check_eligibility'"
          ]
        }
      ]
    }
  ]
}